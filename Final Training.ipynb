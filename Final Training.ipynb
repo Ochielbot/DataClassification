{
  "nbformat": 4,
  "nbformat_minor": 0,
  "metadata": {
    "colab": {
      "provenance": []
    },
    "kernelspec": {
      "name": "python3",
      "display_name": "Python 3"
    },
    "language_info": {
      "name": "python"
    }
  },
  "cells": [
    {
      "cell_type": "code",
      "execution_count": 189,
      "metadata": {
        "id": "bGT6s2KljY9z"
      },
      "outputs": [],
      "source": []
    },
    {
      "cell_type": "markdown",
      "source": [
        "Synthetic data\n",
        "\n",
        "1500 instances - 0 or 1 - binary problem\n",
        "\n",
        "class 1 3 Gaussian distribution - [6,14], [10,6][14,14]\n",
        "\n",
        "class 0 - Uniform distribution - 20\n"
      ],
      "metadata": {
        "id": "7TB5mSyZjt4Q"
      }
    },
    {
      "cell_type": "code",
      "source": [
        "import numpy as np"
      ],
      "metadata": {
        "id": "f84YoSXLkbBY"
      },
      "execution_count": 190,
      "outputs": []
    },
    {
      "cell_type": "code",
      "source": [
        "import matplotlib.pyplot as plt\n"
      ],
      "metadata": {
        "id": "bFyzEJf5kcu5"
      },
      "execution_count": 191,
      "outputs": []
    },
    {
      "cell_type": "code",
      "source": [
        "#matplotlib inline"
      ],
      "metadata": {
        "id": "IiqaitIUkjMo"
      },
      "execution_count": 192,
      "outputs": []
    },
    {
      "cell_type": "code",
      "source": [
        "from numpy.random import random"
      ],
      "metadata": {
        "id": "sDV4OhMAkmof"
      },
      "execution_count": 193,
      "outputs": []
    },
    {
      "cell_type": "code",
      "source": [
        "N=1500"
      ],
      "metadata": {
        "id": "_HJO1Rgxksfs"
      },
      "execution_count": 194,
      "outputs": []
    },
    {
      "cell_type": "code",
      "source": [
        "mean1=[6,14]"
      ],
      "metadata": {
        "id": "AQrc4WUcku_p"
      },
      "execution_count": 195,
      "outputs": []
    },
    {
      "cell_type": "code",
      "source": [
        "mean2=[10,6]"
      ],
      "metadata": {
        "id": "Mizd7_qYk0oj"
      },
      "execution_count": 196,
      "outputs": []
    },
    {
      "cell_type": "code",
      "source": [
        "mean3=[14,14]"
      ],
      "metadata": {
        "id": "VHHqrA1kk3lI"
      },
      "execution_count": 197,
      "outputs": []
    },
    {
      "cell_type": "code",
      "source": [
        "cov=[[3.5, 0],[0,3.5]]"
      ],
      "metadata": {
        "id": "xkoBIOw2k6cY"
      },
      "execution_count": 198,
      "outputs": []
    },
    {
      "cell_type": "code",
      "source": [
        "cov"
      ],
      "metadata": {
        "colab": {
          "base_uri": "https://localhost:8080/"
        },
        "id": "BvL8dPrclAnv",
        "outputId": "94f7692b-abfe-4b94-ddd3-66f912550c39"
      },
      "execution_count": 199,
      "outputs": [
        {
          "output_type": "execute_result",
          "data": {
            "text/plain": [
              "[[3.5, 0], [0, 3.5]]"
            ]
          },
          "metadata": {},
          "execution_count": 199
        }
      ]
    },
    {
      "cell_type": "code",
      "source": [
        "np.random.seed(50)"
      ],
      "metadata": {
        "id": "SwLbuVSalBSr"
      },
      "execution_count": 200,
      "outputs": []
    },
    {
      "cell_type": "code",
      "source": [
        "X=np.random.multivariate_normal(mean1,cov, int(N/6))"
      ],
      "metadata": {
        "id": "R2y8R6pHly1Y"
      },
      "execution_count": 201,
      "outputs": []
    },
    {
      "cell_type": "code",
      "source": [
        "X.shape"
      ],
      "metadata": {
        "colab": {
          "base_uri": "https://localhost:8080/"
        },
        "id": "BUpnW80LmD8B",
        "outputId": "395db0e2-a032-49f6-a53f-a3bbc0ccfd78"
      },
      "execution_count": 202,
      "outputs": [
        {
          "output_type": "execute_result",
          "data": {
            "text/plain": [
              "(250, 2)"
            ]
          },
          "metadata": {},
          "execution_count": 202
        }
      ]
    },
    {
      "cell_type": "code",
      "source": [
        "X[0]"
      ],
      "metadata": {
        "colab": {
          "base_uri": "https://localhost:8080/"
        },
        "id": "jOsCYxEemE1_",
        "outputId": "afae6c60-9f5e-4c02-e56d-6f266b5257ef"
      },
      "execution_count": 203,
      "outputs": [
        {
          "output_type": "execute_result",
          "data": {
            "text/plain": [
              "array([ 3.0808485 , 13.94204621])"
            ]
          },
          "metadata": {},
          "execution_count": 203
        }
      ]
    },
    {
      "cell_type": "code",
      "source": [
        "X[:,1].sum()"
      ],
      "metadata": {
        "colab": {
          "base_uri": "https://localhost:8080/"
        },
        "id": "6csF7udwmPCq",
        "outputId": "b527c89b-ffe3-4e84-e4c9-c477f111ae9c"
      },
      "execution_count": 204,
      "outputs": [
        {
          "output_type": "execute_result",
          "data": {
            "text/plain": [
              "3447.8139448036873"
            ]
          },
          "metadata": {},
          "execution_count": 204
        }
      ]
    },
    {
      "cell_type": "code",
      "source": [
        "3447.8139448036873/250"
      ],
      "metadata": {
        "colab": {
          "base_uri": "https://localhost:8080/"
        },
        "id": "Foiq6K-emTjz",
        "outputId": "3321fad9-c665-46eb-92ce-b62c47c5176e"
      },
      "execution_count": 205,
      "outputs": [
        {
          "output_type": "execute_result",
          "data": {
            "text/plain": [
              "13.79125577921475"
            ]
          },
          "metadata": {},
          "execution_count": 205
        }
      ]
    },
    {
      "cell_type": "code",
      "source": [
        "X= np.concatenate((X, np.random.multivariate_normal(mean2, cov, int(N/6))))"
      ],
      "metadata": {
        "id": "A3VYoSrTmbzG"
      },
      "execution_count": 206,
      "outputs": []
    },
    {
      "cell_type": "code",
      "source": [
        "X.shape"
      ],
      "metadata": {
        "colab": {
          "base_uri": "https://localhost:8080/"
        },
        "id": "o_T8LDStm8y4",
        "outputId": "d0052c09-17ac-4de7-8f56-83831d919ad4"
      },
      "execution_count": 207,
      "outputs": [
        {
          "output_type": "execute_result",
          "data": {
            "text/plain": [
              "(500, 2)"
            ]
          },
          "metadata": {},
          "execution_count": 207
        }
      ]
    },
    {
      "cell_type": "code",
      "source": [
        "X= np.concatenate((X, np.random.multivariate_normal(mean3, cov, int(N/6))))"
      ],
      "metadata": {
        "id": "hy0ZMBZdnQFP"
      },
      "execution_count": 208,
      "outputs": []
    },
    {
      "cell_type": "code",
      "source": [
        "X.shape"
      ],
      "metadata": {
        "colab": {
          "base_uri": "https://localhost:8080/"
        },
        "id": "te7uxEh9namI",
        "outputId": "1827cf65-cfb8-4a98-9d00-b77efacf0c37"
      },
      "execution_count": 209,
      "outputs": [
        {
          "output_type": "execute_result",
          "data": {
            "text/plain": [
              "(750, 2)"
            ]
          },
          "metadata": {},
          "execution_count": 209
        }
      ]
    },
    {
      "cell_type": "code",
      "source": [
        "X=np.concatenate((X, 20*np.random.rand(int(N/2), 2)))"
      ],
      "metadata": {
        "id": "LeR31Ft0nb9Y"
      },
      "execution_count": 210,
      "outputs": []
    },
    {
      "cell_type": "code",
      "source": [
        "X.shape"
      ],
      "metadata": {
        "colab": {
          "base_uri": "https://localhost:8080/"
        },
        "id": "0JH6g1HXnu3Y",
        "outputId": "7e1348f5-a55e-48d6-c2ce-8f51ebef5e62"
      },
      "execution_count": 211,
      "outputs": [
        {
          "output_type": "execute_result",
          "data": {
            "text/plain": [
              "(1500, 2)"
            ]
          },
          "metadata": {},
          "execution_count": 211
        }
      ]
    },
    {
      "cell_type": "code",
      "source": [
        "X"
      ],
      "metadata": {
        "colab": {
          "base_uri": "https://localhost:8080/"
        },
        "id": "dvNKkIRjnwP5",
        "outputId": "798ff883-17ea-4063-e80f-ebc3094d8a73"
      },
      "execution_count": 212,
      "outputs": [
        {
          "output_type": "execute_result",
          "data": {
            "text/plain": [
              "array([[ 3.0808485 , 13.94204621],\n",
              "       [ 4.83834929, 11.2600208 ],\n",
              "       [ 8.64150932, 13.10811583],\n",
              "       ...,\n",
              "       [17.10881966,  8.27100981],\n",
              "       [ 4.63522923,  4.47963684],\n",
              "       [ 7.45080691,  0.31260003]])"
            ]
          },
          "metadata": {},
          "execution_count": 212
        }
      ]
    },
    {
      "cell_type": "code",
      "source": [
        "y=np.concatenate((np.ones(int(N/2)), np.zeros(int(N/2))))"
      ],
      "metadata": {
        "id": "78InFYQLnyIH"
      },
      "execution_count": 213,
      "outputs": []
    },
    {
      "cell_type": "code",
      "source": [
        "y"
      ],
      "metadata": {
        "colab": {
          "base_uri": "https://localhost:8080/"
        },
        "id": "v1wFwEz1oEcA",
        "outputId": "79a69b17-9707-4d47-b10b-1b2ce51fd780"
      },
      "execution_count": 214,
      "outputs": [
        {
          "output_type": "execute_result",
          "data": {
            "text/plain": [
              "array([1., 1., 1., ..., 0., 0., 0.])"
            ]
          },
          "metadata": {},
          "execution_count": 214
        }
      ]
    },
    {
      "cell_type": "code",
      "source": [
        "plt.plot(X[:int(N/2), 0], X[:int(N/2),1], 'r+', X[int(N/2):,0],X[int(N/2):,1],'k.', ms=4)"
      ],
      "metadata": {
        "colab": {
          "base_uri": "https://localhost:8080/",
          "height": 466
        },
        "id": "R6Ix9urypJFg",
        "outputId": "be0ec7f6-7353-402c-fd63-135e053cd392"
      },
      "execution_count": 215,
      "outputs": [
        {
          "output_type": "execute_result",
          "data": {
            "text/plain": [
              "[<matplotlib.lines.Line2D at 0x7c55327410f0>,\n",
              " <matplotlib.lines.Line2D at 0x7c5532741180>]"
            ]
          },
          "metadata": {},
          "execution_count": 215
        },
        {
          "output_type": "display_data",
          "data": {
            "text/plain": [
              "<Figure size 640x480 with 1 Axes>"
            ],
            "image/png": "[encoded data removed]"
          },
          "metadata": {}
        }
      ]
    },
    {
      "cell_type": "code",
      "source": [
        "X"
      ],
      "metadata": {
        "colab": {
          "base_uri": "https://localhost:8080/"
        },
        "id": "fHQ8ZFMspry6",
        "outputId": "3b9c7ffc-e881-4c5a-fe1e-657d456eebda"
      },
      "execution_count": 216,
      "outputs": [
        {
          "output_type": "execute_result",
          "data": {
            "text/plain": [
              "array([[ 3.0808485 , 13.94204621],\n",
              "       [ 4.83834929, 11.2600208 ],\n",
              "       [ 8.64150932, 13.10811583],\n",
              "       ...,\n",
              "       [17.10881966,  8.27100981],\n",
              "       [ 4.63522923,  4.47963684],\n",
              "       [ 7.45080691,  0.31260003]])"
            ]
          },
          "metadata": {},
          "execution_count": 216
        }
      ]
    },
    {
      "cell_type": "code",
      "source": [
        "y"
      ],
      "metadata": {
        "id": "FSaapmwQqNuM",
        "outputId": "2147d28d-7e6c-4880-e8b9-c83a2f91618e",
        "colab": {
          "base_uri": "https://localhost:8080/"
        }
      },
      "execution_count": 217,
      "outputs": [
        {
          "output_type": "execute_result",
          "data": {
            "text/plain": [
              "array([1., 1., 1., ..., 0., 0., 0.])"
            ]
          },
          "metadata": {},
          "execution_count": 217
        }
      ]
    },
    {
      "cell_type": "code",
      "source": [
        "from sklearn.tree import DecisionTreeClassifier, export_text\n",
        "from sklearn.model_selection import train_test_split\n",
        "from sklearn import metrics\n",
        "\n",
        "# Splitting the data into training and testing sets\n",
        "X_train, X_test, y_train, y_test = train_test_split(X, y, test_size=0.2, random_state=42)\n",
        "\n",
        "# Creating a Decision Tree classifier\n",
        "clf = DecisionTreeClassifier(random_state=42)\n",
        "\n",
        "# Training the classifier\n",
        "clf.fit(X_train, y_train)\n",
        "\n",
        "# Making predictions on the test set\n",
        "\n",
        "y_pred = clf.predict(X_test)\n",
        "\n",
        "# Evaluating the classifier\n",
        "accuracy = metrics.accuracy_score(y_test, y_pred)\n",
        "print(f\"Accuracy: {accuracy:.2f}\")\n",
        "\n",
        "# Visualizing the Decision Tree\n",
        "tree_rules = export_text(clf, feature_names=[\"Feature 1\", \"Feature 2\"])\n",
        "print(\"Decision Tree Rules:\")\n",
        "print(tree_rules)\n"
      ],
      "metadata": {
        "colab": {
          "base_uri": "https://localhost:8080/"
        },
        "id": "rrbOLSiz7oL9",
        "outputId": "3876f592-62b4-4860-c005-330ae120b44a"
      },
      "execution_count": 218,
      "outputs": [
        {
          "output_type": "stream",
          "name": "stdout",
          "text": [
            "Accuracy: 0.69\n",
            "Decision Tree Rules:\n",
            "|--- Feature 2 <= 3.20\n",
            "|   |--- Feature 2 <= 2.67\n",
            "|   |   |--- Feature 1 <= 8.56\n",
            "|   |   |   |--- class: 0.0\n",
            "|   |   |--- Feature 1 >  8.56\n",
            "|   |   |   |--- Feature 1 <= 8.74\n",
            "|   |   |   |   |--- class: 1.0\n",
            "|   |   |   |--- Feature 1 >  8.74\n",
            "|   |   |   |   |--- Feature 1 <= 10.94\n",
            "|   |   |   |   |   |--- Feature 1 <= 10.73\n",
            "|   |   |   |   |   |   |--- Feature 2 <= 1.14\n",
            "|   |   |   |   |   |   |   |--- class: 0.0\n",
            "|   |   |   |   |   |   |--- Feature 2 >  1.14\n",
            "|   |   |   |   |   |   |   |--- Feature 2 <= 1.32\n",
            "|   |   |   |   |   |   |   |   |--- class: 1.0\n",
            "|   |   |   |   |   |   |   |--- Feature 2 >  1.32\n",
            "|   |   |   |   |   |   |   |   |--- Feature 1 <= 9.69\n",
            "|   |   |   |   |   |   |   |   |   |--- Feature 2 <= 1.84\n",
            "|   |   |   |   |   |   |   |   |   |   |--- class: 0.0\n",
            "|   |   |   |   |   |   |   |   |   |--- Feature 2 >  1.84\n",
            "|   |   |   |   |   |   |   |   |   |   |--- class: 1.0\n",
            "|   |   |   |   |   |   |   |   |--- Feature 1 >  9.69\n",
            "|   |   |   |   |   |   |   |   |   |--- class: 0.0\n",
            "|   |   |   |   |   |--- Feature 1 >  10.73\n",
            "|   |   |   |   |   |   |--- class: 1.0\n",
            "|   |   |   |   |--- Feature 1 >  10.94\n",
            "|   |   |   |   |   |--- class: 0.0\n",
            "|   |--- Feature 2 >  2.67\n",
            "|   |   |--- Feature 2 <= 2.95\n",
            "|   |   |   |--- Feature 1 <= 10.73\n",
            "|   |   |   |   |--- Feature 1 <= 4.65\n",
            "|   |   |   |   |   |--- class: 0.0\n",
            "|   |   |   |   |--- Feature 1 >  4.65\n",
            "|   |   |   |   |   |--- Feature 2 <= 2.74\n",
            "|   |   |   |   |   |   |--- Feature 1 <= 7.27\n",
            "|   |   |   |   |   |   |   |--- class: 1.0\n",
            "|   |   |   |   |   |   |--- Feature 1 >  7.27\n",
            "|   |   |   |   |   |   |   |--- class: 0.0\n",
            "|   |   |   |   |   |--- Feature 2 >  2.74\n",
            "|   |   |   |   |   |   |--- class: 1.0\n",
            "|   |   |   |--- Feature 1 >  10.73\n",
            "|   |   |   |   |--- class: 0.0\n",
            "|   |   |--- Feature 2 >  2.95\n",
            "|   |   |   |--- class: 0.0\n",
            "|--- Feature 2 >  3.20\n",
            "|   |--- Feature 2 <= 17.46\n",
            "|   |   |--- Feature 1 <= 17.75\n",
            "|   |   |   |--- Feature 1 <= 3.32\n",
            "|   |   |   |   |--- Feature 2 <= 11.14\n",
            "|   |   |   |   |   |--- class: 0.0\n",
            "|   |   |   |   |--- Feature 2 >  11.14\n",
            "|   |   |   |   |   |--- Feature 2 <= 14.97\n",
            "|   |   |   |   |   |   |--- Feature 1 <= 0.62\n",
            "|   |   |   |   |   |   |   |--- class: 0.0\n",
            "|   |   |   |   |   |   |--- Feature 1 >  0.62\n",
            "|   |   |   |   |   |   |   |--- Feature 1 <= 3.12\n",
            "|   |   |   |   |   |   |   |   |--- Feature 1 <= 2.04\n",
            "|   |   |   |   |   |   |   |   |   |--- Feature 1 <= 1.27\n",
            "|   |   |   |   |   |   |   |   |   |   |--- Feature 2 <= 12.57\n",
            "|   |   |   |   |   |   |   |   |   |   |   |--- class: 0.0\n",
            "|   |   |   |   |   |   |   |   |   |   |--- Feature 2 >  12.57\n",
            "|   |   |   |   |   |   |   |   |   |   |   |--- truncated branch of depth 3\n",
            "|   |   |   |   |   |   |   |   |   |--- Feature 1 >  1.27\n",
            "|   |   |   |   |   |   |   |   |   |   |--- class: 0.0\n",
            "|   |   |   |   |   |   |   |   |--- Feature 1 >  2.04\n",
            "|   |   |   |   |   |   |   |   |   |--- Feature 2 <= 12.90\n",
            "|   |   |   |   |   |   |   |   |   |   |--- class: 1.0\n",
            "|   |   |   |   |   |   |   |   |   |--- Feature 2 >  12.90\n",
            "|   |   |   |   |   |   |   |   |   |   |--- Feature 2 <= 13.38\n",
            "|   |   |   |   |   |   |   |   |   |   |   |--- class: 0.0\n",
            "|   |   |   |   |   |   |   |   |   |   |--- Feature 2 >  13.38\n",
            "|   |   |   |   |   |   |   |   |   |   |   |--- truncated branch of depth 2\n",
            "|   |   |   |   |   |   |   |--- Feature 1 >  3.12\n",
            "|   |   |   |   |   |   |   |   |--- class: 0.0\n",
            "|   |   |   |   |   |--- Feature 2 >  14.97\n",
            "|   |   |   |   |   |   |--- Feature 2 <= 17.36\n",
            "|   |   |   |   |   |   |   |--- Feature 1 <= 3.29\n",
            "|   |   |   |   |   |   |   |   |--- Feature 1 <= 2.33\n",
            "|   |   |   |   |   |   |   |   |   |--- class: 0.0\n",
            "|   |   |   |   |   |   |   |   |--- Feature 1 >  2.33\n",
            "|   |   |   |   |   |   |   |   |   |--- Feature 1 <= 2.35\n",
            "|   |   |   |   |   |   |   |   |   |   |--- class: 1.0\n",
            "|   |   |   |   |   |   |   |   |   |--- Feature 1 >  2.35\n",
            "|   |   |   |   |   |   |   |   |   |   |--- class: 0.0\n",
            "|   |   |   |   |   |   |   |--- Feature 1 >  3.29\n",
            "|   |   |   |   |   |   |   |   |--- Feature 1 <= 3.31\n",
            "|   |   |   |   |   |   |   |   |   |--- class: 1.0\n",
            "|   |   |   |   |   |   |   |   |--- Feature 1 >  3.31\n",
            "|   |   |   |   |   |   |   |   |   |--- class: 0.0\n",
            "|   |   |   |   |   |   |--- Feature 2 >  17.36\n",
            "|   |   |   |   |   |   |   |--- class: 1.0\n",
            "|   |   |   |--- Feature 1 >  3.32\n",
            "|   |   |   |   |--- Feature 2 <= 11.90\n",
            "|   |   |   |   |   |--- Feature 1 <= 14.86\n",
            "|   |   |   |   |   |   |--- Feature 1 <= 7.21\n",
            "|   |   |   |   |   |   |   |--- Feature 2 <= 10.29\n",
            "|   |   |   |   |   |   |   |   |--- Feature 1 <= 5.69\n",
            "|   |   |   |   |   |   |   |   |   |--- Feature 1 <= 3.66\n",
            "|   |   |   |   |   |   |   |   |   |   |--- class: 1.0\n",
            "|   |   |   |   |   |   |   |   |   |--- Feature 1 >  3.66\n",
            "|   |   |   |   |   |   |   |   |   |   |--- Feature 2 <= 9.33\n",
            "|   |   |   |   |   |   |   |   |   |   |   |--- truncated branch of depth 3\n",
            "|   |   |   |   |   |   |   |   |   |   |--- Feature 2 >  9.33\n",
            "|   |   |   |   |   |   |   |   |   |   |   |--- truncated branch of depth 3\n",
            "|   |   |   |   |   |   |   |   |--- Feature 1 >  5.69\n",
            "|   |   |   |   |   |   |   |   |   |--- Feature 1 <= 6.54\n",
            "|   |   |   |   |   |   |   |   |   |   |--- Feature 2 <= 5.07\n",
            "|   |   |   |   |   |   |   |   |   |   |   |--- class: 0.0\n",
            "|   |   |   |   |   |   |   |   |   |   |--- Feature 2 >  5.07\n",
            "|   |   |   |   |   |   |   |   |   |   |   |--- truncated branch of depth 3\n",
            "|   |   |   |   |   |   |   |   |   |--- Feature 1 >  6.54\n",
            "|   |   |   |   |   |   |   |   |   |   |--- Feature 2 <= 4.83\n",
            "|   |   |   |   |   |   |   |   |   |   |   |--- class: 1.0\n",
            "|   |   |   |   |   |   |   |   |   |   |--- Feature 2 >  4.83\n",
            "|   |   |   |   |   |   |   |   |   |   |   |--- truncated branch of depth 6\n",
            "|   |   |   |   |   |   |   |--- Feature 2 >  10.29\n",
            "|   |   |   |   |   |   |   |   |--- Feature 2 <= 11.65\n",
            "|   |   |   |   |   |   |   |   |   |--- Feature 2 <= 10.99\n",
            "|   |   |   |   |   |   |   |   |   |   |--- Feature 2 <= 10.71\n",
            "|   |   |   |   |   |   |   |   |   |   |   |--- truncated branch of depth 2\n",
            "|   |   |   |   |   |   |   |   |   |   |--- Feature 2 >  10.71\n",
            "|   |   |   |   |   |   |   |   |   |   |   |--- truncated branch of depth 3\n",
            "|   |   |   |   |   |   |   |   |   |--- Feature 2 >  10.99\n",
            "|   |   |   |   |   |   |   |   |   |   |--- Feature 2 <= 11.52\n",
            "|   |   |   |   |   |   |   |   |   |   |   |--- class: 1.0\n",
            "|   |   |   |   |   |   |   |   |   |   |--- Feature 2 >  11.52\n",
            "|   |   |   |   |   |   |   |   |   |   |   |--- truncated branch of depth 4\n",
            "|   |   |   |   |   |   |   |   |--- Feature 2 >  11.65\n",
            "|   |   |   |   |   |   |   |   |   |--- Feature 1 <= 4.73\n",
            "|   |   |   |   |   |   |   |   |   |   |--- Feature 1 <= 4.53\n",
            "|   |   |   |   |   |   |   |   |   |   |   |--- class: 0.0\n",
            "|   |   |   |   |   |   |   |   |   |   |--- Feature 1 >  4.53\n",
            "|   |   |   |   |   |   |   |   |   |   |   |--- class: 1.0\n",
            "|   |   |   |   |   |   |   |   |   |--- Feature 1 >  4.73\n",
            "|   |   |   |   |   |   |   |   |   |   |--- class: 0.0\n",
            "|   |   |   |   |   |   |--- Feature 1 >  7.21\n",
            "|   |   |   |   |   |   |   |--- Feature 2 <= 9.40\n",
            "|   |   |   |   |   |   |   |   |--- Feature 1 <= 13.17\n",
            "|   |   |   |   |   |   |   |   |   |--- Feature 2 <= 9.01\n",
            "|   |   |   |   |   |   |   |   |   |   |--- Feature 2 <= 8.96\n",
            "|   |   |   |   |   |   |   |   |   |   |   |--- truncated branch of depth 18\n",
            "|   |   |   |   |   |   |   |   |   |   |--- Feature 2 >  8.96\n",
            "|   |   |   |   |   |   |   |   |   |   |   |--- class: 0.0\n",
            "|   |   |   |   |   |   |   |   |   |--- Feature 2 >  9.01\n",
            "|   |   |   |   |   |   |   |   |   |   |--- class: 1.0\n",
            "|   |   |   |   |   |   |   |   |--- Feature 1 >  13.17\n",
            "|   |   |   |   |   |   |   |   |   |--- Feature 2 <= 4.78\n",
            "|   |   |   |   |   |   |   |   |   |   |--- class: 1.0\n",
            "|   |   |   |   |   |   |   |   |   |--- Feature 2 >  4.78\n",
            "|   |   |   |   |   |   |   |   |   |   |--- Feature 2 <= 5.50\n",
            "|   |   |   |   |   |   |   |   |   |   |   |--- class: 0.0\n",
            "|   |   |   |   |   |   |   |   |   |   |--- Feature 2 >  5.50\n",
            "|   |   |   |   |   |   |   |   |   |   |   |--- truncated branch of depth 5\n",
            "|   |   |   |   |   |   |   |--- Feature 2 >  9.40\n",
            "|   |   |   |   |   |   |   |   |--- Feature 1 <= 13.07\n",
            "|   |   |   |   |   |   |   |   |   |--- Feature 2 <= 11.03\n",
            "|   |   |   |   |   |   |   |   |   |   |--- Feature 1 <= 8.31\n",
            "|   |   |   |   |   |   |   |   |   |   |   |--- truncated branch of depth 3\n",
            "|   |   |   |   |   |   |   |   |   |   |--- Feature 1 >  8.31\n",
            "|   |   |   |   |   |   |   |   |   |   |   |--- truncated branch of depth 4\n",
            "|   |   |   |   |   |   |   |   |   |--- Feature 2 >  11.03\n",
            "|   |   |   |   |   |   |   |   |   |   |--- Feature 2 <= 11.82\n",
            "|   |   |   |   |   |   |   |   |   |   |   |--- truncated branch of depth 7\n",
            "|   |   |   |   |   |   |   |   |   |   |--- Feature 2 >  11.82\n",
            "|   |   |   |   |   |   |   |   |   |   |   |--- class: 0.0\n",
            "|   |   |   |   |   |   |   |   |--- Feature 1 >  13.07\n",
            "|   |   |   |   |   |   |   |   |   |--- Feature 2 <= 9.58\n",
            "|   |   |   |   |   |   |   |   |   |   |--- class: 0.0\n",
            "|   |   |   |   |   |   |   |   |   |--- Feature 2 >  9.58\n",
            "|   |   |   |   |   |   |   |   |   |   |--- Feature 2 <= 11.76\n",
            "|   |   |   |   |   |   |   |   |   |   |   |--- truncated branch of depth 3\n",
            "|   |   |   |   |   |   |   |   |   |   |--- Feature 2 >  11.76\n",
            "|   |   |   |   |   |   |   |   |   |   |   |--- truncated branch of depth 2\n",
            "|   |   |   |   |   |--- Feature 1 >  14.86\n",
            "|   |   |   |   |   |   |--- Feature 2 <= 11.28\n",
            "|   |   |   |   |   |   |   |--- Feature 1 <= 15.43\n",
            "|   |   |   |   |   |   |   |   |--- Feature 1 <= 15.03\n",
            "|   |   |   |   |   |   |   |   |   |--- class: 0.0\n",
            "|   |   |   |   |   |   |   |   |--- Feature 1 >  15.03\n",
            "|   |   |   |   |   |   |   |   |   |--- Feature 1 <= 15.17\n",
            "|   |   |   |   |   |   |   |   |   |   |--- class: 1.0\n",
            "|   |   |   |   |   |   |   |   |   |--- Feature 1 >  15.17\n",
            "|   |   |   |   |   |   |   |   |   |   |--- Feature 1 <= 15.33\n",
            "|   |   |   |   |   |   |   |   |   |   |   |--- class: 0.0\n",
            "|   |   |   |   |   |   |   |   |   |   |--- Feature 1 >  15.33\n",
            "|   |   |   |   |   |   |   |   |   |   |   |--- class: 1.0\n",
            "|   |   |   |   |   |   |   |--- Feature 1 >  15.43\n",
            "|   |   |   |   |   |   |   |   |--- class: 0.0\n",
            "|   |   |   |   |   |   |--- Feature 2 >  11.28\n",
            "|   |   |   |   |   |   |   |--- Feature 2 <= 11.42\n",
            "|   |   |   |   |   |   |   |   |--- class: 1.0\n",
            "|   |   |   |   |   |   |   |--- Feature 2 >  11.42\n",
            "|   |   |   |   |   |   |   |   |--- Feature 1 <= 16.32\n",
            "|   |   |   |   |   |   |   |   |   |--- class: 0.0\n",
            "|   |   |   |   |   |   |   |   |--- Feature 1 >  16.32\n",
            "|   |   |   |   |   |   |   |   |   |--- Feature 1 <= 17.53\n",
            "|   |   |   |   |   |   |   |   |   |   |--- class: 1.0\n",
            "|   |   |   |   |   |   |   |   |   |--- Feature 1 >  17.53\n",
            "|   |   |   |   |   |   |   |   |   |   |--- class: 0.0\n",
            "|   |   |   |   |--- Feature 2 >  11.90\n",
            "|   |   |   |   |   |--- Feature 2 <= 16.83\n",
            "|   |   |   |   |   |   |--- Feature 2 <= 12.12\n",
            "|   |   |   |   |   |   |   |--- class: 1.0\n",
            "|   |   |   |   |   |   |--- Feature 2 >  12.12\n",
            "|   |   |   |   |   |   |   |--- Feature 2 <= 13.39\n",
            "|   |   |   |   |   |   |   |   |--- Feature 2 <= 13.30\n",
            "|   |   |   |   |   |   |   |   |   |--- Feature 1 <= 4.73\n",
            "|   |   |   |   |   |   |   |   |   |   |--- Feature 1 <= 4.02\n",
            "|   |   |   |   |   |   |   |   |   |   |   |--- truncated branch of depth 3\n",
            "|   |   |   |   |   |   |   |   |   |   |--- Feature 1 >  4.02\n",
            "|   |   |   |   |   |   |   |   |   |   |   |--- truncated branch of depth 3\n",
            "|   |   |   |   |   |   |   |   |   |--- Feature 1 >  4.73\n",
            "|   |   |   |   |   |   |   |   |   |   |--- Feature 1 <= 15.23\n",
            "|   |   |   |   |   |   |   |   |   |   |   |--- truncated branch of depth 11\n",
            "|   |   |   |   |   |   |   |   |   |   |--- Feature 1 >  15.23\n",
            "|   |   |   |   |   |   |   |   |   |   |   |--- truncated branch of depth 5\n",
            "|   |   |   |   |   |   |   |   |--- Feature 2 >  13.30\n",
            "|   |   |   |   |   |   |   |   |   |--- Feature 2 <= 13.35\n",
            "|   |   |   |   |   |   |   |   |   |   |--- class: 0.0\n",
            "|   |   |   |   |   |   |   |   |   |--- Feature 2 >  13.35\n",
            "|   |   |   |   |   |   |   |   |   |   |--- Feature 2 <= 13.38\n",
            "|   |   |   |   |   |   |   |   |   |   |   |--- class: 1.0\n",
            "|   |   |   |   |   |   |   |   |   |   |--- Feature 2 >  13.38\n",
            "|   |   |   |   |   |   |   |   |   |   |   |--- truncated branch of depth 2\n",
            "|   |   |   |   |   |   |   |--- Feature 2 >  13.39\n",
            "|   |   |   |   |   |   |   |   |--- Feature 1 <= 3.78\n",
            "|   |   |   |   |   |   |   |   |   |--- Feature 1 <= 3.60\n",
            "|   |   |   |   |   |   |   |   |   |   |--- Feature 2 <= 14.19\n",
            "|   |   |   |   |   |   |   |   |   |   |   |--- class: 0.0\n",
            "|   |   |   |   |   |   |   |   |   |   |--- Feature 2 >  14.19\n",
            "|   |   |   |   |   |   |   |   |   |   |   |--- truncated branch of depth 3\n",
            "|   |   |   |   |   |   |   |   |   |--- Feature 1 >  3.60\n",
            "|   |   |   |   |   |   |   |   |   |   |--- class: 0.0\n",
            "|   |   |   |   |   |   |   |   |--- Feature 1 >  3.78\n",
            "|   |   |   |   |   |   |   |   |   |--- Feature 1 <= 4.57\n",
            "|   |   |   |   |   |   |   |   |   |   |--- class: 1.0\n",
            "|   |   |   |   |   |   |   |   |   |--- Feature 1 >  4.57\n",
            "|   |   |   |   |   |   |   |   |   |   |--- Feature 1 <= 4.73\n",
            "|   |   |   |   |   |   |   |   |   |   |   |--- class: 0.0\n",
            "|   |   |   |   |   |   |   |   |   |   |--- Feature 1 >  4.73\n",
            "|   |   |   |   |   |   |   |   |   |   |   |--- truncated branch of depth 17\n",
            "|   |   |   |   |   |--- Feature 2 >  16.83\n",
            "|   |   |   |   |   |   |--- Feature 1 <= 17.08\n",
            "|   |   |   |   |   |   |   |--- Feature 1 <= 13.91\n",
            "|   |   |   |   |   |   |   |   |--- Feature 1 <= 7.89\n",
            "|   |   |   |   |   |   |   |   |   |--- Feature 2 <= 16.92\n",
            "|   |   |   |   |   |   |   |   |   |   |--- class: 0.0\n",
            "|   |   |   |   |   |   |   |   |   |--- Feature 2 >  16.92\n",
            "|   |   |   |   |   |   |   |   |   |   |--- Feature 2 <= 17.07\n",
            "|   |   |   |   |   |   |   |   |   |   |   |--- class: 1.0\n",
            "|   |   |   |   |   |   |   |   |   |   |--- Feature 2 >  17.07\n",
            "|   |   |   |   |   |   |   |   |   |   |   |--- truncated branch of depth 2\n",
            "|   |   |   |   |   |   |   |   |--- Feature 1 >  7.89\n",
            "|   |   |   |   |   |   |   |   |   |--- Feature 1 <= 12.01\n",
            "|   |   |   |   |   |   |   |   |   |   |--- class: 0.0\n",
            "|   |   |   |   |   |   |   |   |   |--- Feature 1 >  12.01\n",
            "|   |   |   |   |   |   |   |   |   |   |--- Feature 1 <= 12.61\n",
            "|   |   |   |   |   |   |   |   |   |   |   |--- class: 1.0\n",
            "|   |   |   |   |   |   |   |   |   |   |--- Feature 1 >  12.61\n",
            "|   |   |   |   |   |   |   |   |   |   |   |--- class: 0.0\n",
            "|   |   |   |   |   |   |   |--- Feature 1 >  13.91\n",
            "|   |   |   |   |   |   |   |   |--- Feature 2 <= 16.95\n",
            "|   |   |   |   |   |   |   |   |   |--- class: 1.0\n",
            "|   |   |   |   |   |   |   |   |--- Feature 2 >  16.95\n",
            "|   |   |   |   |   |   |   |   |   |--- Feature 2 <= 17.22\n",
            "|   |   |   |   |   |   |   |   |   |   |--- Feature 1 <= 15.82\n",
            "|   |   |   |   |   |   |   |   |   |   |   |--- truncated branch of depth 2\n",
            "|   |   |   |   |   |   |   |   |   |   |--- Feature 1 >  15.82\n",
            "|   |   |   |   |   |   |   |   |   |   |   |--- class: 0.0\n",
            "|   |   |   |   |   |   |   |   |   |--- Feature 2 >  17.22\n",
            "|   |   |   |   |   |   |   |   |   |   |--- Feature 1 <= 15.70\n",
            "|   |   |   |   |   |   |   |   |   |   |   |--- truncated branch of depth 2\n",
            "|   |   |   |   |   |   |   |   |   |   |--- Feature 1 >  15.70\n",
            "|   |   |   |   |   |   |   |   |   |   |   |--- class: 1.0\n",
            "|   |   |   |   |   |   |--- Feature 1 >  17.08\n",
            "|   |   |   |   |   |   |   |--- class: 0.0\n",
            "|   |   |--- Feature 1 >  17.75\n",
            "|   |   |   |--- Feature 1 <= 18.50\n",
            "|   |   |   |   |--- Feature 2 <= 13.26\n",
            "|   |   |   |   |   |--- class: 0.0\n",
            "|   |   |   |   |--- Feature 2 >  13.26\n",
            "|   |   |   |   |   |--- Feature 1 <= 18.00\n",
            "|   |   |   |   |   |   |--- class: 0.0\n",
            "|   |   |   |   |   |--- Feature 1 >  18.00\n",
            "|   |   |   |   |   |   |--- class: 1.0\n",
            "|   |   |   |--- Feature 1 >  18.50\n",
            "|   |   |   |   |--- class: 0.0\n",
            "|   |--- Feature 2 >  17.46\n",
            "|   |   |--- Feature 2 <= 18.32\n",
            "|   |   |   |--- Feature 2 <= 18.27\n",
            "|   |   |   |   |--- Feature 1 <= 6.25\n",
            "|   |   |   |   |   |--- class: 0.0\n",
            "|   |   |   |   |--- Feature 1 >  6.25\n",
            "|   |   |   |   |   |--- Feature 1 <= 12.02\n",
            "|   |   |   |   |   |   |--- Feature 1 <= 11.55\n",
            "|   |   |   |   |   |   |   |--- Feature 2 <= 18.03\n",
            "|   |   |   |   |   |   |   |   |--- Feature 1 <= 6.38\n",
            "|   |   |   |   |   |   |   |   |   |--- class: 1.0\n",
            "|   |   |   |   |   |   |   |   |--- Feature 1 >  6.38\n",
            "|   |   |   |   |   |   |   |   |   |--- Feature 2 <= 17.81\n",
            "|   |   |   |   |   |   |   |   |   |   |--- class: 0.0\n",
            "|   |   |   |   |   |   |   |   |   |--- Feature 2 >  17.81\n",
            "|   |   |   |   |   |   |   |   |   |   |--- Feature 1 <= 10.02\n",
            "|   |   |   |   |   |   |   |   |   |   |   |--- class: 0.0\n",
            "|   |   |   |   |   |   |   |   |   |   |--- Feature 1 >  10.02\n",
            "|   |   |   |   |   |   |   |   |   |   |   |--- class: 1.0\n",
            "|   |   |   |   |   |   |   |--- Feature 2 >  18.03\n",
            "|   |   |   |   |   |   |   |   |--- class: 1.0\n",
            "|   |   |   |   |   |   |--- Feature 1 >  11.55\n",
            "|   |   |   |   |   |   |   |--- class: 1.0\n",
            "|   |   |   |   |   |--- Feature 1 >  12.02\n",
            "|   |   |   |   |   |   |--- Feature 1 <= 16.36\n",
            "|   |   |   |   |   |   |   |--- class: 0.0\n",
            "|   |   |   |   |   |   |--- Feature 1 >  16.36\n",
            "|   |   |   |   |   |   |   |--- Feature 1 <= 17.13\n",
            "|   |   |   |   |   |   |   |   |--- class: 1.0\n",
            "|   |   |   |   |   |   |   |--- Feature 1 >  17.13\n",
            "|   |   |   |   |   |   |   |   |--- class: 0.0\n",
            "|   |   |   |--- Feature 2 >  18.27\n",
            "|   |   |   |   |--- class: 1.0\n",
            "|   |   |--- Feature 2 >  18.32\n",
            "|   |   |   |--- Feature 1 <= 17.62\n",
            "|   |   |   |   |--- class: 0.0\n",
            "|   |   |   |--- Feature 1 >  17.62\n",
            "|   |   |   |   |--- Feature 1 <= 17.95\n",
            "|   |   |   |   |   |--- class: 1.0\n",
            "|   |   |   |   |--- Feature 1 >  17.95\n",
            "|   |   |   |   |   |--- class: 0.0\n",
            "\n"
          ]
        }
      ]
    },
    {
      "cell_type": "code",
      "source": [
        "from sklearn.model_selection import train_test_split\n",
        "from sklearn.tree import DecisionTreeClassifier\n",
        "from sklearn import tree"
      ],
      "metadata": {
        "id": "KNWmbwPgqPEx"
      },
      "execution_count": 219,
      "outputs": []
    },
    {
      "cell_type": "markdown",
      "source": [
        "Fitting the model"
      ],
      "metadata": {
        "id": "NKFDYfh5T0OC"
      }
    },
    {
      "cell_type": "code",
      "source": [
        "maxDepth=[2,3,4,5,6,7,8,9,10,15,20,25,30,35,40,45,50,55]"
      ],
      "metadata": {
        "id": "SFkU_wEVT2dY"
      },
      "execution_count": 220,
      "outputs": []
    },
    {
      "cell_type": "code",
      "source": [
        "trainAcc=np.zeros(len(maxDepth))"
      ],
      "metadata": {
        "id": "Pknl8MqDUYZo"
      },
      "execution_count": 221,
      "outputs": []
    },
    {
      "cell_type": "code",
      "source": [
        "trainAcc"
      ],
      "metadata": {
        "colab": {
          "base_uri": "https://localhost:8080/"
        },
        "id": "2ONmoIL6Uo1Z",
        "outputId": "3c672b6f-2167-4bd2-ed3e-0b6256ed7dc5"
      },
      "execution_count": 222,
      "outputs": [
        {
          "output_type": "execute_result",
          "data": {
            "text/plain": [
              "array([0., 0., 0., 0., 0., 0., 0., 0., 0., 0., 0., 0., 0., 0., 0., 0., 0.,\n",
              "       0.])"
            ]
          },
          "metadata": {},
          "execution_count": 222
        }
      ]
    },
    {
      "cell_type": "code",
      "source": [
        "testAcc=(np.zeros(len(maxDepth)))"
      ],
      "metadata": {
        "id": "J7C6uIlTUycw"
      },
      "execution_count": 223,
      "outputs": []
    },
    {
      "cell_type": "code",
      "source": [
        "testAcc"
      ],
      "metadata": {
        "colab": {
          "base_uri": "https://localhost:8080/"
        },
        "id": "RrfBWwsDU4_u",
        "outputId": "07e4008d-b969-46c8-a292-dd9456c5b79e"
      },
      "execution_count": 224,
      "outputs": [
        {
          "output_type": "execute_result",
          "data": {
            "text/plain": [
              "array([0., 0., 0., 0., 0., 0., 0., 0., 0., 0., 0., 0., 0., 0., 0., 0., 0.,\n",
              "       0.])"
            ]
          },
          "metadata": {},
          "execution_count": 224
        }
      ]
    },
    {
      "cell_type": "code",
      "source": [
        "index=0\n",
        "for depth in maxDepth:\n",
        "  clf=tree.DecisionTreeClassifier(max_depth=depth)\n",
        "\n",
        "  clf=clf.fit(X_train,y_train)\n",
        "  y_predTrain=clf.predict(X_train)\n",
        "  y_predTest=clf.predict(X_test)\n",
        "  trainAcc[index]=accuracy_score(y_train,y_predTrain)\n",
        "  testAcc[index]=accuracy_score(y_test,y_predTest)\n",
        "  index +=1"
      ],
      "metadata": {
        "id": "gwxMUY8RVFcK"
      },
      "execution_count": 225,
      "outputs": []
    },
    {
      "cell_type": "code",
      "source": [
        "trainAcc"
      ],
      "metadata": {
        "colab": {
          "base_uri": "https://localhost:8080/"
        },
        "id": "OfB0UwgAYNhN",
        "outputId": "3ebd1236-80bd-4310-fd04-6d1af2822343"
      },
      "execution_count": 226,
      "outputs": [
        {
          "output_type": "execute_result",
          "data": {
            "text/plain": [
              "array([0.64416667, 0.68583333, 0.72416667, 0.72666667, 0.755     ,\n",
              "       0.78      , 0.79      , 0.81583333, 0.83416667, 0.91166667,\n",
              "       0.96833333, 0.99416667, 1.        , 1.        , 1.        ,\n",
              "       1.        , 1.        , 1.        ])"
            ]
          },
          "metadata": {},
          "execution_count": 226
        }
      ]
    },
    {
      "cell_type": "code",
      "source": [
        "testAcc"
      ],
      "metadata": {
        "colab": {
          "base_uri": "https://localhost:8080/"
        },
        "id": "86iC_mhBYRYV",
        "outputId": "52eb4ca6-1377-4a44-f996-f3faa1a656c9"
      },
      "execution_count": 227,
      "outputs": [
        {
          "output_type": "execute_result",
          "data": {
            "text/plain": [
              "array([0.59666667, 0.65      , 0.69666667, 0.69666667, 0.72333333,\n",
              "       0.72      , 0.72      , 0.71333333, 0.71333333, 0.72666667,\n",
              "       0.71      , 0.68      , 0.67666667, 0.67666667, 0.67666667,\n",
              "       0.68666667, 0.68      , 0.68      ])"
            ]
          },
          "metadata": {},
          "execution_count": 227
        }
      ]
    },
    {
      "cell_type": "code",
      "source": [
        "import matplotlib.pyplot as plt"
      ],
      "metadata": {
        "id": "6e2Lr4yYZPpx"
      },
      "execution_count": 228,
      "outputs": []
    },
    {
      "cell_type": "code",
      "source": [
        "%matplotlib inline"
      ],
      "metadata": {
        "id": "s0WF7p1Eaj57"
      },
      "execution_count": 229,
      "outputs": []
    },
    {
      "cell_type": "code",
      "source": [
        "plt.plot(maxDepth,trainAcc,'ro-',maxDepth,testAcc,\"bv--\")\n",
        "plt.legend([\"Training Accuracy\",\"Test Accuracy\"])\n",
        "plt.xlabel(\"Max Depth\")\n",
        "plt.ylabel(\"Accuracy\")\n"
      ],
      "metadata": {
        "colab": {
          "base_uri": "https://localhost:8080/",
          "height": 467
        },
        "id": "CTu5CgCjZaK9",
        "outputId": "19cb729c-8dd5-4d18-a220-2373634f85da"
      },
      "execution_count": 230,
      "outputs": [
        {
          "output_type": "execute_result",
          "data": {
            "text/plain": [
              "Text(0, 0.5, 'Accuracy')"
            ]
          },
          "metadata": {},
          "execution_count": 230
        },
        {
          "output_type": "display_data",
          "data": {
            "text/plain": [
              "<Figure size 640x480 with 1 Axes>"
            ],
            "image/png": "[encoded data removed]"
          },
          "metadata": {}
        }
      ]
    }
  ]
}